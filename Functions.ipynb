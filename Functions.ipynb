{
 "cells": [
  {
   "cell_type": "markdown",
   "id": "a1fa2425-44fa-41ee-bd2b-6c73bd511099",
   "metadata": {},
   "source": [
    "## Python Functions Notebook \n",
    "### This notebook covers various aspects of functions in Python including:\n",
    "### - Basic Function Example\n",
    "### - Default Arguments\n",
    "### - Keyword Arguments\n",
    "### - Variable Arguments (*args)\n",
    "### - Variable Keyword Arguments (**kwargs)\n",
    "### - Combining *args and **kwargs\n",
    "### - Function Annotation\n",
    "### - Lambda Functions\n",
    "### - Higher-Order Functions\n",
    "### - Recursive Functions\n",
    "### - Function Closure\n",
    "### - Decorator Functions\n",
    "\n"
   ]
  },
  {
   "cell_type": "markdown",
   "id": "eb540cd7-e582-4130-9487-08a349bbccac",
   "metadata": {
    "jp-MarkdownHeadingCollapsed": true
   },
   "source": [
    "### Basic Function Example\n",
    "#### A simple function that takes two parameters and returns their sum."
   ]
  },
  {
   "cell_type": "code",
   "execution_count": null,
   "id": "cdeba7c9-baf9-41fa-9c0c-2fae6ce481e7",
   "metadata": {},
   "outputs": [],
   "source": [
    "def add(x, y):\n",
    "    \"\"\"Add two numbers.\"\"\"\n",
    "    return x + y"
   ]
  },
  {
   "cell_type": "code",
   "execution_count": null,
   "id": "6783f7ca-c797-439b-b781-566c7f9fbd89",
   "metadata": {},
   "outputs": [],
   "source": [
    "# Test the function\n",
    "add(3, 5)  # Output should be 8\n"
   ]
  },
  {
   "cell_type": "markdown",
   "id": "f5aedfd0-27f7-4f86-96cf-28c7426e7399",
   "metadata": {},
   "source": [
    "### Default Arguments\n",
    "#### Functions can have default values for parameters. These default values are used if no argument is provided."
   ]
  },
  {
   "cell_type": "code",
   "execution_count": null,
   "id": "4e16dc9f-1453-445f-9baa-392d24829aab",
   "metadata": {},
   "outputs": [],
   "source": [
    "def greet(name, greeting=\"Hello\"):\n",
    "    \"\"\"Greet a person with a custom or default greeting.\"\"\"\n",
    "    return f\"{greeting}, {name}!\"\n"
   ]
  },
  {
   "cell_type": "code",
   "execution_count": null,
   "id": "d4445c3b-d2b3-481f-9df8-2d82448e6e10",
   "metadata": {},
   "outputs": [],
   "source": [
    "# Test the function with and without the default argument\n",
    "greet(\"ALice\")           # Output should be \"Hello, Alice!\"\n",
    "\n"
   ]
  },
  {
   "cell_type": "code",
   "execution_count": null,
   "id": "929031d3-969e-48a0-82b4-b29a84c370ab",
   "metadata": {},
   "outputs": [],
   "source": [
    "greet(\"Bob\", \"Goodbye\")  # Output should be \"Goodbye, Bob!\""
   ]
  },
  {
   "cell_type": "markdown",
   "id": "f2c6073f-6c15-4cb1-99bb-3dde77af82e3",
   "metadata": {},
   "source": [
    "### Keyword Arguments\n",
    "#### Keyword arguments allow you to specify arguments by name, which can improve readability."
   ]
  },
  {
   "cell_type": "code",
   "execution_count": null,
   "id": "a56ba72e-5250-4d4b-9d17-01899a70ba96",
   "metadata": {},
   "outputs": [],
   "source": [
    "def describe_person(name, age, city):\n",
    "    \"\"\"Describe a person by their name, age, and city.\"\"\"\n",
    "    return f\"{name} is {age} years old and lives in {city}.\"\n",
    "\n"
   ]
  },
  {
   "cell_type": "code",
   "execution_count": null,
   "id": "5118c508-73c1-44eb-8e65-0a928383afdd",
   "metadata": {},
   "outputs": [],
   "source": [
    "# Test the function using keyword arguments\n",
    "describe_person(age=30, city=\"New York\", name=\"Charlie\")  # Output should be \"Charlie is 30 years old and lives in New York.\"\n"
   ]
  },
  {
   "cell_type": "markdown",
   "id": "0c4578e6-7777-47c0-b784-82f435116c50",
   "metadata": {},
   "source": [
    "### Variable Arguments (*args)\n",
    "#### You can pass a variable number of positional arguments to a function using *args. All passed arguments are collected in a tuple. "
   ]
  },
  {
   "cell_type": "code",
   "execution_count": null,
   "id": "62c5fcbc-228a-4aa9-91a4-7272f74d8d09",
   "metadata": {},
   "outputs": [],
   "source": [
    "def summarize(*args):\n",
    "    \"\"\"Summarize the arguments passed to the function.\"\"\"\n",
    "    for a in args:\n",
    "        print(a)\n",
    "    return sum(args), len(args)\n"
   ]
  },
  {
   "cell_type": "code",
   "execution_count": null,
   "id": "7e048ec0-cad7-4745-9983-f7bbbdf4ec73",
   "metadata": {},
   "outputs": [],
   "source": [
    "# Test the function with varying numbers of arguments\n",
    "summarize(1, 2, 3, 4)  # Output should be (10, 4)\n"
   ]
  },
  {
   "cell_type": "code",
   "execution_count": null,
   "id": "df82f310-14cc-4332-b6d0-4b566f00ac83",
   "metadata": {},
   "outputs": [],
   "source": [
    "summarize(10, 20)      # Output should be (30, 2)\n"
   ]
  },
  {
   "cell_type": "markdown",
   "id": "00657fa9-e8fe-44e6-a610-4b119ff4afd8",
   "metadata": {},
   "source": [
    "### Variable Keyword Arguments (**kwargs)\n",
    "#### You can pass a variable number of keyword arguments to a function using **kwargs. All passed arguments are collected in a dictionary."
   ]
  },
  {
   "cell_type": "code",
   "execution_count": null,
   "id": "ce47f1d0-7c4e-4f10-bd44-8b5e42224f98",
   "metadata": {},
   "outputs": [],
   "source": [
    "def print_info(**kwargs):\n",
    "    \"\"\"Print key-value pairs from keyword arguments.\"\"\"\n",
    "    for key, value in kwargs.items():\n",
    "        print(f\"{key}: {value}\")\n"
   ]
  },
  {
   "cell_type": "code",
   "execution_count": null,
   "id": "83c74f4c-79df-4691-8efd-0d5b483267c0",
   "metadata": {},
   "outputs": [],
   "source": [
    "# Test the function with varying keyword arguments\n",
    "print_info(name=\"Diana\", age=25, city=\"London\")  \n",
    "# Output should be:\n",
    "# name: Diana\n",
    "# age: 25\n",
    "# city: London\n"
   ]
  },
  {
   "cell_type": "markdown",
   "id": "92df41be-89fd-4fe3-82a0-a887953c9525",
   "metadata": {},
   "source": [
    "### Combining *args and **kwargs\n",
    "#### You can combine *args and **kwargs in a function definition to handle both types of variable arguments."
   ]
  },
  {
   "cell_type": "code",
   "execution_count": null,
   "id": "fef21182-4f5a-43e6-90a0-45630c9bb051",
   "metadata": {},
   "outputs": [],
   "source": [
    "def mixed_args(*args, **kwargs):\n",
    "    \"\"\"Handle both positional and keyword arguments.\"\"\"\n",
    "    return args, kwargs\n"
   ]
  },
  {
   "cell_type": "code",
   "execution_count": null,
   "id": "901873c9-667c-487b-986a-9732fbed0949",
   "metadata": {},
   "outputs": [],
   "source": [
    "# Test the function\n",
    "mixed_args(1, 2, 3, a=4, b=5)  \n",
    "# Output should be: ((1, 2, 3), {'a': 4, 'b': 5})\n"
   ]
  },
  {
   "cell_type": "markdown",
   "id": "790a2f5e-716a-4d59-901c-34bb09324c1c",
   "metadata": {},
   "source": [
    "### Function Annotation\n",
    "#### Function annotations provide a way to attach metadata to function parameters and return values. Annotations are primarily for documentation and can be used by tools and libraries for type checking, but they are not enforced at runtime.\n"
   ]
  },
  {
   "cell_type": "code",
   "execution_count": null,
   "id": "4092867d-8536-4248-b559-9e62b2ef3d37",
   "metadata": {},
   "outputs": [],
   "source": [
    "def multiply(x: int, y:int) -> int:\n",
    "    \"\"\"Multiply two integers.\"\"\"\n",
    "    return x * y\n"
   ]
  },
  {
   "cell_type": "code",
   "execution_count": null,
   "id": "04c30c1c-adfb-4e60-83cb-fb6729210e44",
   "metadata": {},
   "outputs": [],
   "source": [
    "# Test the function\n",
    "multiply(4, 5)  # Output should be 20\n"
   ]
  },
  {
   "cell_type": "markdown",
   "id": "ae49e5f4-3d63-478e-b346-365ec8fce36c",
   "metadata": {},
   "source": [
    "### Lambda Function\n",
    "#### A lambda function is an anonymous function defined with the `lambda` keyword.\n"
   ]
  },
  {
   "cell_type": "code",
   "execution_count": null,
   "id": "4371a973-9351-494b-876d-b4f85d732994",
   "metadata": {},
   "outputs": [],
   "source": [
    "square = lambda x: x * x\n"
   ]
  },
  {
   "cell_type": "code",
   "execution_count": null,
   "id": "a48c00fd-12fd-4ebf-9679-558f6fce840e",
   "metadata": {},
   "outputs": [],
   "source": [
    "# Test the lambda function\n",
    "square(7)  # Output should be 49\n"
   ]
  },
  {
   "cell_type": "markdown",
   "id": "d3696072-4d38-4389-ae4f-496984119251",
   "metadata": {},
   "source": [
    "### Higher-Order Function\n",
    "#### Higher-order functions take other functions as arguments or return functions."
   ]
  },
  {
   "cell_type": "code",
   "execution_count": null,
   "id": "976e758c-207e-45f0-b709-837d20866c7a",
   "metadata": {},
   "outputs": [],
   "source": [
    "def apply_function(func, value):\n",
    "    \"\"\"Apply a given function to a value.\"\"\"\n",
    "    return func(value)"
   ]
  },
  {
   "cell_type": "code",
   "execution_count": null,
   "id": "aa6f9e34-97fc-439a-8599-b0f1db237cfe",
   "metadata": {},
   "outputs": [],
   "source": [
    "# Test with a lambda function\n",
    "apply_function(lambda x: x + 10, 5)  # Output should be 15\n"
   ]
  },
  {
   "cell_type": "markdown",
   "id": "49fc16ae-aaa3-494c-8360-255b39d5e688",
   "metadata": {},
   "source": [
    "### Recursive Function\n",
    "#### A recursive function is one that calls itself to solve a problem."
   ]
  },
  {
   "cell_type": "code",
   "execution_count": null,
   "id": "aea4a808-d346-434f-8a63-b184950b3a27",
   "metadata": {},
   "outputs": [],
   "source": [
    "def factorial(n):\n",
    "    \"\"\"Calculate the factorial of a number.\"\"\"\n",
    "    if n == 0:\n",
    "        return 1\n",
    "    else:\n",
    "        return n * factorial(n - 1)\n",
    "\n"
   ]
  },
  {
   "cell_type": "code",
   "execution_count": null,
   "id": "d9680d05-3cb6-4218-8930-d26fcf6c6f9e",
   "metadata": {},
   "outputs": [],
   "source": [
    "# Test the function\n",
    "factorial(5)  # Output should be 120\n"
   ]
  },
  {
   "cell_type": "markdown",
   "id": "8eae3bf6-d530-4804-98f5-144fe6ac0497",
   "metadata": {},
   "source": [
    "### Function Closure\n",
    "#### A closure is a function object that has access to variables in its lexical scope, even when the function is invoked outside that scope."
   ]
  },
  {
   "cell_type": "code",
   "execution_count": null,
   "id": "666ee333-275b-4b9b-8019-a28999d22e39",
   "metadata": {},
   "outputs": [],
   "source": [
    "def outer_function(x):\n",
    "    \"\"\"Outer function with a closure.\"\"\"\n",
    "    def inner_function(y):\n",
    "        \"\"\"Inner function accessing the outer function's variable.\"\"\"\n",
    "        return x + y\n",
    "    return inner_function\n"
   ]
  },
  {
   "cell_type": "code",
   "execution_count": null,
   "id": "65372119-92d6-4a69-a54f-d1c1ad998d32",
   "metadata": {},
   "outputs": [],
   "source": [
    "# Test the closure\n",
    "closure = outer_function(10)\n",
    "closure(5)  # Output should be 15\n"
   ]
  },
  {
   "cell_type": "markdown",
   "id": "d4bb4551-7715-4a0d-acc4-81407d19cc5f",
   "metadata": {},
   "source": [
    "### Decorator Functions\n",
    "#### Decorators are functions that modify the behavior of other functions."
   ]
  },
  {
   "cell_type": "code",
   "execution_count": null,
   "id": "031e9f91-7594-4a7b-ab38-85e9345ca106",
   "metadata": {},
   "outputs": [],
   "source": [
    "def decorator_function(func):\n",
    "    \"\"\"A simple decorator.\"\"\"\n",
    "    def wrapper():\n",
    "        print(\"Something is happening before the function is called.\")\n",
    "        func();\n",
    "         print(\"Something is happening after the function is called.\")\n",
    "    return wrapper\n",
    "\n",
    "@decorator_function\n",
    "def say_hello():\n",
    "    \"\"\"A simple function.\"\"\"\n",
    "    print(\"Hello!\")\n"
   ]
  },
  {
   "cell_type": "code",
   "execution_count": null,
   "id": "7aa62291-3b94-4311-a5a3-105418c3d150",
   "metadata": {},
   "outputs": [],
   "source": [
    "\n",
    "# Test the decorator\n",
    "say_hello()\n",
    "# Output should be:\n",
    "# Something is happening before the function is called.\n",
    "# Hello!\n",
    "# Something is happening after the function is called.\n"
   ]
  }
 ],
 "metadata": {
  "kernelspec": {
   "display_name": "Python 3 (ipykernel)",
   "language": "python",
   "name": "python3"
  },
  "language_info": {
   "codemirror_mode": {
    "name": "ipython",
    "version": 3
   },
   "file_extension": ".py",
   "mimetype": "text/x-python",
   "name": "python",
   "nbconvert_exporter": "python",
   "pygments_lexer": "ipython3",
   "version": "3.12.4"
  }
 },
 "nbformat": 4,
 "nbformat_minor": 5
}

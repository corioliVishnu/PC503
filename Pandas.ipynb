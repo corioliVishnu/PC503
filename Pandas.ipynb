{
 "cells": [
  {
   "cell_type": "markdown",
   "id": "caae9ac8-1092-4c46-becf-721141c093a8",
   "metadata": {},
   "source": [
    "# Creating a data frame"
   ]
  },
  {
   "cell_type": "code",
   "execution_count": null,
   "id": "91803867-c20e-4ebd-b292-12a14f0054a0",
   "metadata": {},
   "outputs": [],
   "source": [
    "import pandas as pd\n",
    "\n",
    "# Creating a DataFrame from a dictionary of lists\n",
    "# each key of the dictionary becomes the column header and values as columns\n",
    "data = {\n",
    "    'Name': ['Alice', 'Bob', 'Charlie'],\n",
    "    'Age': [25, 30, 35],\n",
    "    'City': ['New York', 'Los Angeles', 'Chicago']\n",
    "}\n",
    "df = pd.DataFrame(data)\n",
    "\n",
    "print(\"DataFrame:\")\n",
    "print(df)\n"
   ]
  },
  {
   "cell_type": "markdown",
   "id": "71b8da04-ffd2-4182-8403-7af0e2daa6e2",
   "metadata": {},
   "source": [
    "# Reading data from CSV file"
   ]
  },
  {
   "cell_type": "code",
   "execution_count": null,
   "id": "88f03adb-dbec-423c-87c0-6b2404519da4",
   "metadata": {},
   "outputs": [],
   "source": [
    "import pandas as pd\n",
    "\n",
    "# Reading a CSV file into a DataFrame\n",
    "df = pd.read_csv('data.csv')\n",
    "\n",
    "print(\"DataFrame from CSV:\")\n",
    "print(df.head())\n"
   ]
  },
  {
   "cell_type": "markdown",
   "id": "f3ba028f-1e92-4b36-a3c1-942b1f405d23",
   "metadata": {},
   "source": [
    "# DataFrame Information and Statistics"
   ]
  },
  {
   "cell_type": "code",
   "execution_count": null,
   "id": "a0eaa782-4fb8-46d8-a4c0-cfed38268674",
   "metadata": {
    "scrolled": true
   },
   "outputs": [],
   "source": [
    "\n",
    "import pandas as pd\n",
    "\n",
    "# Sample DataFrame\n",
    "data = {\n",
    "    'Name': ['Alice', 'Bob', 'Charlie'],\n",
    "    'Age': [25, 30, 35],\n",
    "    'Salary': [70000, 80000, 120000]\n",
    "}\n",
    "df = pd.DataFrame(data)\n",
    "\n",
    "# Basic information about the DataFrame\n",
    "print(\"DataFrame Info:\")\n",
    "print(df.info())\n",
    "\n",
    "# Summary statistics, applicable to numerical values\n",
    "print(\"\\nSummary Statistics:\") \n",
    "print(df.describe())\n",
    "\n",
    "# selected summary statistics\n",
    "print('selected summary statistics:')\n",
    "df.agg(\n",
    "    {\n",
    "        'Age':['min', 'max', 'median'],\n",
    "        'Salary' :['min', 'max', 'median'],\n",
    "    }\n",
    ")\n",
    "\n"
   ]
  },
  {
   "cell_type": "markdown",
   "id": "5471f968-8c65-4c3a-af6c-baa586173ddb",
   "metadata": {},
   "source": [
    "## Selecting Data"
   ]
  },
  {
   "cell_type": "code",
   "execution_count": null,
   "id": "0a7216a9-8fe5-4e1b-8120-a583aa4fb6ef",
   "metadata": {},
   "outputs": [],
   "source": [
    "import pandas as pd\n",
    "# Sample DataFrame\n",
    "data = {\n",
    "    'Name': ['Alice', 'Bob', 'Charlie'],\n",
    "    'Age': [25, 30, 35],\n",
    "    'Salary': [70000, 80000, 120000]\n",
    "}\n",
    "df = pd.DataFrame(data)\n",
    "\n",
    "# Selecting a single column\n",
    "print(\"Select 'Name' column:\")\n",
    "print(df['Name'])\n",
    "\n",
    "# Selecting multiple columns\n",
    "print(\"\\nSelect 'Name' and 'Age' columns:\")\n",
    "print(df[['Name', 'Age']])\n",
    "\n",
    "# Selecting rows based on condition / Boolean masking\n",
    "print(\"\\nSelect rows where Age > 30:\")\n",
    "print(df[df['Age'] > 30])\n",
    "\n",
    "print(\"\\nSelect rows where Age >= 30 and Salary is greater than 75k:\")\n",
    "print(df[(df['Age'] >= 30) & (df['Salary'] > 75000)])  \n",
    "# enclose each condition in parantheses.\n",
    "\n",
    "\n",
    "# Selecting rows or columns using names \n",
    "print(\"\\nSelect column Name that satisfies the specified condition\")\n",
    "print(df.loc[ df['Age'] > 30, 'Name'])\n",
    "\n",
    "\n",
    "# Selecting rows by index\n",
    "print(\"\\nSelect first two rows:\")\n",
    "print(df.iloc[:3])\n",
    "\n",
    "print(\"\\nSelect first two rows and last two columns:\")\n",
    "print(df.iloc[:3, :1])\n",
    "\n",
    "\n"
   ]
  },
  {
   "cell_type": "markdown",
   "id": "af569466-4588-4f72-a82d-ae5ffaaa7604",
   "metadata": {},
   "source": [
    "## Adding and Removing Columns"
   ]
  },
  {
   "cell_type": "code",
   "execution_count": null,
   "id": "b7e0fc38-768f-4239-b6f4-7861ec3e6480",
   "metadata": {},
   "outputs": [],
   "source": [
    "import pandas as pd\n",
    "\n",
    "# Sample DataFrame\n",
    "data = {\n",
    "    'Name': ['Alice', 'Bob', 'Charlie'],\n",
    "    'Age': [25, 30, 35]\n",
    "}\n",
    "df = pd.DataFrame(data)\n",
    "\n",
    "# Adding a new column\n",
    "df['Salary'] = [70000, 80000, 120000]\n",
    "\n",
    "print(\"DataFrame with new column:\")\n",
    "print(df)\n",
    "\n",
    "# Removing a column\n",
    "df = df.drop('Salary', axis=1)\n",
    "\n",
    "print(\"\\nDataFrame after removing 'Salary' column:\")\n",
    "print(df)\n"
   ]
  },
  {
   "cell_type": "markdown",
   "id": "e388a18d-2b61-4e46-af03-0564d30fbc45",
   "metadata": {},
   "source": [
    "## Group By and Aggregation"
   ]
  },
  {
   "cell_type": "code",
   "execution_count": null,
   "id": "24e38c93-cbea-4900-ada2-02cd14db8f2b",
   "metadata": {},
   "outputs": [],
   "source": [
    "import pandas as pd\n",
    "\n",
    "# Sample DataFrame\n",
    "data = {\n",
    "    'Department': ['HR', 'Engineering', 'HR', 'Engineering'],\n",
    "    'Employee': ['Alice', 'Bob', 'Charlie', 'David'],\n",
    "    'Salary': [70000, 80000, 75000, 85000]\n",
    "}\n",
    "df = pd.DataFrame(data)\n",
    "\n",
    "# Group by 'Department' and calculate the average salary (split-apply-combine)\n",
    "print(df.groupby('Department'))\n",
    "grouped_df = df.groupby('Department')['Salary'].mean()\n",
    "\n",
    "print(\"Average Salary by Department:\")\n",
    "print(grouped_df)\n"
   ]
  },
  {
   "cell_type": "markdown",
   "id": "805f820c-6641-4e4a-8c1d-fe6ccfab4f23",
   "metadata": {},
   "source": [
    "## Count number of records by category"
   ]
  },
  {
   "cell_type": "code",
   "execution_count": null,
   "id": "0bf95134-4ef3-41fd-bc7e-be694b9a55ee",
   "metadata": {},
   "outputs": [],
   "source": [
    "df['Department'].value_counts()"
   ]
  },
  {
   "cell_type": "markdown",
   "id": "1b9218e1-ff5f-4db1-9b8c-c5a5b6974f50",
   "metadata": {},
   "source": [
    "## Handling Missing Data"
   ]
  },
  {
   "cell_type": "code",
   "execution_count": null,
   "id": "6c72049b-a2b8-4100-a909-6df60b0fcf1f",
   "metadata": {},
   "outputs": [],
   "source": [
    "import pandas as pd\n",
    "import numpy as np\n",
    "\n",
    "# Sample DataFrame with missing values\n",
    "df = pd.DataFrame({\n",
    "    'Name': ['Alice', 'Bob', np.nan],\n",
    "    'Age': [25, np.nan, 35],\n",
    "    'Salary': [70000, 80000, np.nan]\n",
    "})\n",
    "\n",
    "print(\"Original DataFrame with missing values:\")\n",
    "print(df)\n",
    "\n",
    "# Filling missing values\n",
    "df_filled = df.fillna({\n",
    "    'Name': 'Unknown',\n",
    "    'Age': df['Age'].mean(),\n",
    "    'Salary': df['Salary'].mean()\n",
    "})\n",
    "\n",
    "print(\"\\nDataFrame after filling missing values:\")\n",
    "print(df_filled)\n",
    "\n",
    "# Dropping rows with missing values\n",
    "df_dropped = df.dropna()\n",
    "\n",
    "print(\"\\nDataFrame after dropping rows with missing values:\")\n",
    "print(df_dropped)\n"
   ]
  },
  {
   "cell_type": "markdown",
   "id": "4d06b2f7-63d4-44aa-85dc-55b1b3bb9dde",
   "metadata": {},
   "source": [
    "## Sorting data"
   ]
  },
  {
   "cell_type": "code",
   "execution_count": null,
   "id": "8210787e-5079-4391-9a21-f5700d22aa02",
   "metadata": {},
   "outputs": [],
   "source": [
    "import pandas as pd\n",
    "\n",
    "# Sample DataFrame\n",
    "data = {\n",
    "    'Name': ['Alice', 'Bob', 'Charlie'],\n",
    "    'Age': [55, 30, 35],\n",
    "    'Salary': [70000, 80000, 120000]\n",
    "}\n",
    "df = pd.DataFrame(data)\n",
    "\n",
    "# Sorting by a single column\n",
    "sorted_df = df.sort_values(by='Salary', ascending=False)\n",
    "\n",
    "print(\"DataFrame sorted by Salary (descending):\")\n",
    "print(sorted_df)\n",
    "\n",
    "# Sorting by multiple columns\n",
    "sorted_df = df.sort_values(by=[ 'Age','Salary'], ascending=False)\n",
    "\n",
    "print(\"DataFrame sorted by Salary and Age(descending):\")\n",
    "print(sorted_df)\n",
    "\n"
   ]
  },
  {
   "cell_type": "markdown",
   "id": "5b8f78da-3ab7-4a94-8d38-b017eda07c4b",
   "metadata": {},
   "source": [
    "# Applying Functions"
   ]
  },
  {
   "cell_type": "code",
   "execution_count": null,
   "id": "59002eab-5983-4678-8b28-44dcbc6860c9",
   "metadata": {},
   "outputs": [],
   "source": [
    "import pandas as pd\n",
    "\n",
    "# Sample DataFrame\n",
    "df = pd.DataFrame({\n",
    "    'Name': ['Alice', 'Bob', 'Charlie'],\n",
    "    'Salary': [70000, 80000, 120000]\n",
    "})\n",
    "\n",
    "# Applying a function to a column\n",
    "df['Salary_in_Thousand'] = df['Salary'].apply(lambda x: x / 1000)\n",
    "\n",
    "print(\"DataFrame with applied function:\")\n",
    "print(df)\n"
   ]
  },
  {
   "cell_type": "code",
   "execution_count": null,
   "id": "78922273-c6e8-405e-bfd0-9a1674e186b2",
   "metadata": {},
   "outputs": [],
   "source": [
    "import pandas as pd\n",
    "\n",
    "# Sample DataFrame\n",
    "data = {\n",
    "    'Brand': ['Toyota', 'Honda', 'Ford', 'BMW', 'Toyota', 'Honda', 'Ford', 'BMW'],\n",
    "    'Region': ['North America', 'North America', 'Europe', 'Europe', 'Asia', 'Asia', 'North America', 'Asia'],\n",
    "    'Sales': [15000, 12000, 10000, 8000, 7000, 6000, 11000, 9000],\n",
    "    'Revenue': [30000000, 25000000, 20000000, 40000000, 35000000, 36000000, 22000000, 18000000]\n",
    "}\n",
    "\n",
    "df = pd.DataFrame(data)\n",
    "\n",
    "# Group by Brand and Region, then aggregate Sales and Revenue\n",
    "summary_df = df.groupby(['Brand', 'Region']).agg(\n",
    "    Total_Sales=('Sales', 'sum'),\n",
    "    Total_Revenue=('Revenue', 'sum')\n",
    ")\n",
    "\n",
    "print(summary_df)\n"
   ]
  },
  {
   "cell_type": "code",
   "execution_count": null,
   "id": "310f2eee-c86c-4873-a288-7e78b3f1c93e",
   "metadata": {},
   "outputs": [],
   "source": []
  }
 ],
 "metadata": {
  "kernelspec": {
   "display_name": "Python 3 (ipykernel)",
   "language": "python",
   "name": "python3"
  },
  "language_info": {
   "codemirror_mode": {
    "name": "ipython",
    "version": 3
   },
   "file_extension": ".py",
   "mimetype": "text/x-python",
   "name": "python",
   "nbconvert_exporter": "python",
   "pygments_lexer": "ipython3",
   "version": "3.12.4"
  }
 },
 "nbformat": 4,
 "nbformat_minor": 5
}

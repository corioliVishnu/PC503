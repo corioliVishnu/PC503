{
 "cells": [
  {
   "cell_type": "raw",
   "id": "4668a54b-bd8d-407b-82b4-6a90801a3d8b",
   "metadata": {},
   "source": [
    "# Python Modules Usage Examples\n",
    "\n",
    "This notebook demonstrates the usage of various Python modules, including `math`, `os`, `sys`, `datetime`, and `re`.\n",
    "\n",
    "## 1. `math` Module: provides mathematical functions and constaP"
   ]
  },
  {
   "cell_type": "code",
   "execution_count": null,
   "id": "bf22f1ee-0b95-425e-9091-faa3a6502e1a",
   "metadata": {},
   "outputs": [],
   "source": [
    "import math;\n"
   ]
  },
  {
   "cell_type": "markdown",
   "id": "522c1817-5c33-43de-abd4-4f2431d7d9fc",
   "metadata": {},
   "source": [
    "# Constants\n"
   ]
  },
  {
   "cell_type": "code",
   "execution_count": null,
   "id": "bf9bf6c0-2e2b-42b8-b173-f8a8b880ea1e",
   "metadata": {},
   "outputs": [],
   "source": [
    "print(\"pi:\", math.pi)"
   ]
  },
  {
   "cell_type": "code",
   "execution_count": null,
   "id": "2356fb13-d9c2-40dc-a01b-b9402c15408e",
   "metadata": {},
   "outputs": [],
   "source": [
    "print(\"Euler's constant:\", math.e)\n"
   ]
  },
  {
   "cell_type": "markdown",
   "id": "aac3f6d9-d32e-4241-8574-2f3d1f186b49",
   "metadata": {},
   "source": [
    "# Functions\n"
   ]
  },
  {
   "cell_type": "code",
   "execution_count": null,
   "id": "b0e42cc8-36d1-46a4-a051-ad8190a17d25",
   "metadata": {},
   "outputs": [],
   "source": [
    "number =16;\n",
    "print(\"Square root of number is :\", math.sqrt(number));\n"
   ]
  },
  {
   "cell_type": "code",
   "execution_count": null,
   "id": "69db66d9-6002-4104-b68a-d980f69e5e28",
   "metadata": {},
   "outputs": [],
   "source": [
    "print(\"log of the number is: \", math.log(16, 2) );"
   ]
  },
  {
   "cell_type": "code",
   "execution_count": null,
   "id": "42d46031-3dcb-4884-9055-bff2f6720e6d",
   "metadata": {},
   "outputs": [],
   "source": [
    "print(\"cosine of 0:\",math.cos(0));\n"
   ]
  },
  {
   "cell_type": "markdown",
   "id": "5536daf1-437b-486a-8d66-19c8bc3c63e7",
   "metadata": {},
   "source": [
    "# OS MODULE"
   ]
  },
  {
   "cell_type": "code",
   "execution_count": null,
   "id": "fe38736b-e013-41b6-9b91-ea729db777bd",
   "metadata": {},
   "outputs": [],
   "source": [
    "import os"
   ]
  },
  {
   "cell_type": "code",
   "execution_count": null,
   "id": "ac0a884c-c49f-4016-bf7f-c5f1c3e231aa",
   "metadata": {},
   "outputs": [],
   "source": [
    "# Current working directory\n",
    "print(\"Current Working Directory:\", os.getcwd())\n"
   ]
  },
  {
   "cell_type": "code",
   "execution_count": null,
   "id": "a1311ebc-4a5d-4b79-b443-5e14cb602cb2",
   "metadata": {},
   "outputs": [],
   "source": [
    "# List files and directories\n",
    "print(\"Files and directories in the current directory:\", os.listdir())\n",
    "\n"
   ]
  },
  {
   "cell_type": "code",
   "execution_count": null,
   "id": "d67fcd04-1bc2-4e3c-a6ae-dd214d1c5b79",
   "metadata": {},
   "outputs": [],
   "source": [
    "# Create and remove a directory\n",
    "dir_name = 'test_dir'\n",
    "os.makedirs(dir_name, exist_ok=True)\n",
    "print(f\"Directory '{dir_name}' created.\")\n"
   ]
  },
  {
   "cell_type": "code",
   "execution_count": null,
   "id": "ac910b23-f857-48a6-afb8-1a2b7326a21a",
   "metadata": {},
   "outputs": [],
   "source": [
    "# Remove the directory\n",
    "os.rmdir(dir_name)\n",
    "print(f\"Directory '{dir_name}' removed.\")\n"
   ]
  },
  {
   "cell_type": "code",
   "execution_count": null,
   "id": "d23cdf99-e9ae-45ba-96eb-eab1ccb83970",
   "metadata": {},
   "outputs": [],
   "source": []
  },
  {
   "cell_type": "markdown",
   "id": "dbc417d5-d970-4ce9-9f5e-b831c4538abf",
   "metadata": {},
   "source": [
    "# Sys Module"
   ]
  },
  {
   "cell_type": "code",
   "execution_count": null,
   "id": "09b27d50-7ae8-4339-86fb-54c8e5bc1941",
   "metadata": {},
   "outputs": [],
   "source": [
    "import sys;"
   ]
  },
  {
   "cell_type": "code",
   "execution_count": null,
   "id": "e6ae7f14-08d2-4794-be11-b1ad078287fb",
   "metadata": {},
   "outputs": [],
   "source": [
    "# Print command-line arguments\n",
    "print(\"Command-line arguments:\", sys.argv)"
   ]
  },
  {
   "cell_type": "code",
   "execution_count": null,
   "id": "f6dfd380-0055-4907-a922-cc8d7e1f07a9",
   "metadata": {},
   "outputs": [],
   "source": [
    "# Print Python version\n",
    "print(\"Python version:\", sys.version)\n",
    "\n"
   ]
  },
  {
   "cell_type": "code",
   "execution_count": null,
   "id": "252f8228-9870-4223-8558-f9556af30d3d",
   "metadata": {},
   "outputs": [],
   "source": [
    "# Exit the program (commented out to avoid stopping the notebook)\n",
    "# sys.exit()"
   ]
  }
 ],
 "metadata": {
  "kernelspec": {
   "display_name": "Python 3 (ipykernel)",
   "language": "python",
   "name": "python3"
  },
  "language_info": {
   "codemirror_mode": {
    "name": "ipython",
    "version": 3
   },
   "file_extension": ".py",
   "mimetype": "text/x-python",
   "name": "python",
   "nbconvert_exporter": "python",
   "pygments_lexer": "ipython3",
   "version": "3.12.4"
  }
 },
 "nbformat": 4,
 "nbformat_minor": 5
}

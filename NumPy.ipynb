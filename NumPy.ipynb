{
 "cells": [
  {
   "cell_type": "code",
   "execution_count": 111,
   "id": "a9e17c29-6fcc-4169-beb1-972b168f752e",
   "metadata": {},
   "outputs": [],
   "source": [
    "import numpy as np\n"
   ]
  },
  {
   "cell_type": "markdown",
   "id": "d30d8afa-8e9f-4d5f-a6d7-e289c8b3d973",
   "metadata": {},
   "source": [
    "# Creating a 1D array"
   ]
  },
  {
   "cell_type": "code",
   "execution_count": 117,
   "id": "5deaf3dd-6393-49ab-bc5a-f18b9d78dc45",
   "metadata": {},
   "outputs": [
    {
     "name": "stdout",
     "output_type": "stream",
     "text": [
      "[1 2 3 4 5]\n"
     ]
    }
   ],
   "source": [
    "arr = np.array([1,2,3,4,5])\n",
    "print(arr)"
   ]
  },
  {
   "cell_type": "markdown",
   "id": "8937e16c-2a9a-45f6-a2b3-1b9977778e58",
   "metadata": {},
   "source": [
    "# Creating a 2D array"
   ]
  },
  {
   "cell_type": "code",
   "execution_count": 129,
   "id": "0b4d5f20-6af9-4cfe-95f8-ef6893501c95",
   "metadata": {},
   "outputs": [
    {
     "name": "stdout",
     "output_type": "stream",
     "text": [
      "[[1 2 3]\n",
      " [4 5 6]]\n"
     ]
    }
   ],
   "source": [
    "arr_2d = np.array([[1, 2, 3],[ 4, 5, 6]])\n",
    "print(arr_2d)\n"
   ]
  },
  {
   "cell_type": "markdown",
   "id": "e5fabc25-5488-40d3-9ea7-3769d2e1bdf4",
   "metadata": {},
   "source": [
    "# Array attributes: shape, dimesnions, size and data type\n",
    "## arr.shape  Returns the shape of the array\n",
    "## arr.ndim   Returns the number of dimensions\n",
    "## arr.size   Returns the total number of elements\n",
    "## arr.dtype # Returns the data type of elements"
   ]
  },
  {
   "cell_type": "code",
   "execution_count": 133,
   "id": "bdfec37d-b417-4e8e-8fca-ecba7efa3252",
   "metadata": {},
   "outputs": [
    {
     "name": "stdout",
     "output_type": "stream",
     "text": [
      "(2, 3)\n"
     ]
    }
   ],
   "source": [
    "print(arr_2d.shape)"
   ]
  },
  {
   "cell_type": "code",
   "execution_count": 135,
   "id": "4918632a-a4f6-4840-a851-1c4e633aefa0",
   "metadata": {},
   "outputs": [
    {
     "name": "stdout",
     "output_type": "stream",
     "text": [
      "2\n"
     ]
    }
   ],
   "source": [
    "print(arr_2d.ndim)"
   ]
  },
  {
   "cell_type": "code",
   "execution_count": 137,
   "id": "ecc190cb-7ad2-4b89-b218-152be5968950",
   "metadata": {},
   "outputs": [
    {
     "data": {
      "text/plain": [
       "5"
      ]
     },
     "execution_count": 137,
     "metadata": {},
     "output_type": "execute_result"
    }
   ],
   "source": [
    "arr.size"
   ]
  },
  {
   "cell_type": "code",
   "execution_count": 139,
   "id": "e6346fa5-620f-49be-82eb-bcb19ec8262d",
   "metadata": {},
   "outputs": [
    {
     "data": {
      "text/plain": [
       "dtype('int64')"
      ]
     },
     "execution_count": 139,
     "metadata": {},
     "output_type": "execute_result"
    }
   ],
   "source": [
    "arr.dtype"
   ]
  },
  {
   "cell_type": "markdown",
   "id": "5ac438f0-8ff4-40aa-a221-58ed3b70dc80",
   "metadata": {},
   "source": [
    "# Array indexing and slicing"
   ]
  },
  {
   "cell_type": "code",
   "execution_count": null,
   "id": "a29dac61-80ac-4f63-bcb1-284f8829a17c",
   "metadata": {},
   "outputs": [],
   "source": [
    "# print the first element of arr"
   ]
  },
  {
   "cell_type": "code",
   "execution_count": null,
   "id": "24ab1e38-f5b1-40c4-9e24-f6f16eecf6d3",
   "metadata": {},
   "outputs": [],
   "source": [
    "\n"
   ]
  },
  {
   "cell_type": "code",
   "execution_count": null,
   "id": "39eba556-f9bb-4dff-b497-bd7e38024e7a",
   "metadata": {},
   "outputs": [],
   "source": [
    "# print all elemenst second onwards"
   ]
  },
  {
   "cell_type": "code",
   "execution_count": null,
   "id": "bc55d678-7892-489c-9d3d-6b0e26d10e92",
   "metadata": {},
   "outputs": [],
   "source": [
    "\n"
   ]
  },
  {
   "cell_type": "code",
   "execution_count": null,
   "id": "5953d5e6-00bf-4758-a904-9cb872692288",
   "metadata": {},
   "outputs": [],
   "source": [
    "# print the element in the second row and third column\n"
   ]
  },
  {
   "cell_type": "code",
   "execution_count": null,
   "id": "4f383e7a-b1d7-4c5d-8871-0755488d5e2f",
   "metadata": {},
   "outputs": [],
   "source": [
    "print(arr_2d[1,2])\n",
    "print(arr_2d[0:2, 1:3])      "
   ]
  },
  {
   "cell_type": "code",
   "execution_count": null,
   "id": "4fc48e14-98f8-475e-81b2-f90a81bab69a",
   "metadata": {},
   "outputs": [],
   "source": [
    "# print elements in arr_2d: first three rows and second to fourth column"
   ]
  },
  {
   "cell_type": "markdown",
   "id": "382c1f9d-71c3-489d-b606-972a7a73a433",
   "metadata": {},
   "source": [
    "# Universal functions"
   ]
  },
  {
   "cell_type": "code",
   "execution_count": null,
   "id": "97bfa30d-9586-4311-ab03-56e58461d665",
   "metadata": {},
   "outputs": [],
   "source": [
    "np.sqrt(arr)\n",
    "np.exp(arr)"
   ]
  },
  {
   "cell_type": "markdown",
   "id": "0a17a985-8b9a-443c-bdbe-3778c2db128b",
   "metadata": {},
   "source": [
    "# aggregation functions"
   ]
  },
  {
   "cell_type": "code",
   "execution_count": null,
   "id": "3caab761-3ffc-4e6b-bab8-3136620d9e0a",
   "metadata": {},
   "outputs": [],
   "source": [
    "mean = np.mean(arr)\n",
    "std = np.std(arr)\n",
    "arr_max = np.max(arr)\n"
   ]
  },
  {
   "cell_type": "code",
   "execution_count": null,
   "id": "f76223b3-9281-4eb9-a2e1-31b2c4a0e372",
   "metadata": {},
   "outputs": [],
   "source": [
    "print(f\"Array is {arr}\", f\"; Mean is {mean}\", f\"std. deviation is {std}\", f\"Max value is {arr_max}\" )"
   ]
  },
  {
   "cell_type": "markdown",
   "id": "2047f9e2-7055-4070-95d4-16d723589f38",
   "metadata": {},
   "source": [
    "# Linear Algebra\n",
    "## DOt product\n"
   ]
  },
  {
   "cell_type": "code",
   "execution_count": null,
   "id": "f0567a43-54b9-4fa1-9793-213a4fdeb8a6",
   "metadata": {},
   "outputs": [],
   "source": [
    "np.dot(arr, arr)"
   ]
  },
  {
   "cell_type": "markdown",
   "id": "5eb6f40b-63ec-4566-ae17-d2b447f291ea",
   "metadata": {},
   "source": [
    "## Matrix Multiplication"
   ]
  },
  {
   "cell_type": "code",
   "execution_count": null,
   "id": "ac14bbba-8134-40aa-a666-74b218d2aa8e",
   "metadata": {},
   "outputs": [],
   "source": [
    "matrix1 = np.array([ [1,2],[3,4]])\n",
    "matrix2 = np.array([ [5,6],[7,8]])\n",
    "np.matmul(matrix1, matrix2)"
   ]
  },
  {
   "cell_type": "markdown",
   "id": "0f519bde-b93d-4029-a33b-cc14496f0c6e",
   "metadata": {},
   "source": [
    "## Eigenvalues and EIgendecomposition"
   ]
  },
  {
   "cell_type": "code",
   "execution_count": null,
   "id": "0e3ae706-d6c8-4adf-a308-e7fae2ff6015",
   "metadata": {},
   "outputs": [],
   "source": [
    "eigenvalues, eigenvectors = np.linalg.eig(matrix1)"
   ]
  },
  {
   "cell_type": "code",
   "execution_count": null,
   "id": "4135dd55-fe38-440d-8839-17933a68d3f3",
   "metadata": {},
   "outputs": [],
   "source": [
    "print(eigenvalues, eigenvectors)"
   ]
  },
  {
   "cell_type": "markdown",
   "id": "bb244c51-0cf9-4bbc-9a85-60a97c9a7d8d",
   "metadata": {},
   "source": [
    "## Random Number Generation"
   ]
  },
  {
   "cell_type": "code",
   "execution_count": null,
   "id": "3a471846-743d-4f0b-8cc0-393eadda09b1",
   "metadata": {},
   "outputs": [],
   "source": [
    "np.random.rand(5) # array of 5 random numbers between 0 and 1"
   ]
  },
  {
   "cell_type": "markdown",
   "id": "c600be08-508d-47ab-aa3c-7b395fd921bf",
   "metadata": {},
   "source": [
    "## Random Integers"
   ]
  },
  {
   "cell_type": "code",
   "execution_count": null,
   "id": "9e22ce34-4a47-4730-a973-73120eab2877",
   "metadata": {},
   "outputs": [],
   "source": [
    "np.random.randint(0, 10, size=5) #  array of 5 random integers between 0 and 10"
   ]
  },
  {
   "cell_type": "markdown",
   "id": "ad514e66-469b-4b03-87a5-443fae3a1d38",
   "metadata": {},
   "source": [
    "## Reshaping Arrays"
   ]
  },
  {
   "cell_type": "code",
   "execution_count": null,
   "id": "6791a666-a42a-4eda-895a-d60ab07a1e71",
   "metadata": {},
   "outputs": [],
   "source": []
  },
  {
   "cell_type": "code",
   "execution_count": 145,
   "id": "290fc855-582b-4730-aa82-b4badd595bce",
   "metadata": {},
   "outputs": [
    {
     "name": "stdout",
     "output_type": "stream",
     "text": [
      "[ 0  1  2  3  4  5  6  7  8  9 10 11]\n",
      "[[[ 0  1  2  3]\n",
      "  [ 4  5  6  7]\n",
      "  [ 8  9 10 11]]]\n"
     ]
    }
   ],
   "source": [
    "arr = np.arange(12)\n",
    "arr_reshaped = arr.reshape((1, 3, 4))  # Reshape to 3x4 array\n",
    "print(arr)\n",
    "print(arr_reshaped)"
   ]
  },
  {
   "cell_type": "markdown",
   "id": "91d0b908-c690-4b3d-981c-9019d3cfb9ff",
   "metadata": {},
   "source": [
    "## Flattening arrays"
   ]
  },
  {
   "cell_type": "code",
   "execution_count": 147,
   "id": "8aa091eb-12aa-4640-a15d-baca0f70c424",
   "metadata": {},
   "outputs": [],
   "source": [
    "arr_flat = arr_reshaped.flatten()"
   ]
  },
  {
   "cell_type": "code",
   "execution_count": 149,
   "id": "6694f302-90f2-4e5a-afca-5fe9f971b20c",
   "metadata": {},
   "outputs": [
    {
     "name": "stdout",
     "output_type": "stream",
     "text": [
      "[ 0  1  2  3  4  5  6  7  8  9 10 11]\n"
     ]
    }
   ],
   "source": [
    "print(arr_flat)"
   ]
  },
  {
   "cell_type": "markdown",
   "id": "5c44dba3-f895-46e6-aa58-3c3d8ca8b7d2",
   "metadata": {},
   "source": [
    "## Broadcasting"
   ]
  },
  {
   "cell_type": "code",
   "execution_count": null,
   "id": "bb59a679-cafc-472f-a6a0-72a1fe270a15",
   "metadata": {},
   "outputs": [],
   "source": [
    "arr = np.array([1, 2, 3])\n",
    "result = arr + np.array([10])  # Broadcasting the addition\n",
    "print(result)"
   ]
  },
  {
   "cell_type": "markdown",
   "id": "605db601-dac7-4b48-afd1-c7819cbfd150",
   "metadata": {},
   "source": [
    "## Broadcatsing with a scalar"
   ]
  },
  {
   "cell_type": "code",
   "execution_count": 151,
   "id": "ff7ba4b4-52ea-41f7-b0ef-cce6c30c3859",
   "metadata": {},
   "outputs": [
    {
     "name": "stdout",
     "output_type": "stream",
     "text": [
      "Original Array:\n",
      "[[1 2 3]\n",
      " [4 5 6]]\n",
      "\n",
      "Array after adding scalar 10:\n",
      "[[11 12 13]\n",
      " [14 15 16]]\n"
     ]
    }
   ],
   "source": [
    "# Create a 2D array\n",
    "array = np.array([[1, 2, 3], [4, 5, 6]])\n",
    "\n",
    "# Add a scalar value to each element of the array\n",
    "result = array + 10\n",
    "\n",
    "print(\"Original Array:\")\n",
    "print(array)\n",
    "print(\"\\nArray after adding scalar 10:\")\n",
    "print(result)\n"
   ]
  },
  {
   "cell_type": "markdown",
   "id": "cfbb59e6-dba6-4edc-bbed-caeef48aa429",
   "metadata": {},
   "source": [
    "## Broadcasting with different shaped arrays"
   ]
  },
  {
   "cell_type": "code",
   "execution_count": 163,
   "id": "30be6a63-7e99-4fcb-81ce-0670ae89cc02",
   "metadata": {},
   "outputs": [
    {
     "name": "stdout",
     "output_type": "stream",
     "text": [
      "2D Array:\n",
      "[[1 2 3]\n",
      " [4 5 6]]\n",
      "\n",
      "1D Array:\n",
      "[10 20 30]\n",
      "\n",
      "Result after broadcasting:\n",
      "[[11 22 33]\n",
      " [14 25 36]]\n"
     ]
    }
   ],
   "source": [
    "# Create a 2D array\n",
    "array_2d = np.array([[1, 2, 3], [4, 5, 6]])\n",
    "\n",
    "# Create a 1D array\n",
    "array_1d = np.array([10, 20, 30])\n",
    "\n",
    "# Add the 1D array to the 2D array\n",
    "result = array_2d + array_1d\n",
    "\n",
    "print(\"2D Array:\")\n",
    "print(array_2d)\n",
    "print(\"\\n1D Array:\")\n",
    "print(array_1d)\n",
    "print(\"\\nResult after broadcasting:\")\n",
    "print(result)\n"
   ]
  },
  {
   "cell_type": "markdown",
   "id": "f202dd17-38a9-41f4-86bf-3ff69abe2fb3",
   "metadata": {},
   "source": [
    "## Broadcasting with higher dimensions "
   ]
  },
  {
   "cell_type": "code",
   "execution_count": 157,
   "id": "f55a98d8-2591-4833-bc1c-de6f345e67a2",
   "metadata": {},
   "outputs": [
    {
     "name": "stdout",
     "output_type": "stream",
     "text": [
      "3D Array:\n",
      "[[[ 1  2  3]\n",
      "  [ 4  5  6]]\n",
      "\n",
      " [[ 7  8  9]\n",
      "  [10 11 12]]]\n",
      "\n",
      "2D Array:\n",
      "[[1 0 1]]\n",
      "\n",
      "Result after broadcasting:\n",
      "[[[ 2  2  4]\n",
      "  [ 5  5  7]]\n",
      "\n",
      " [[ 8  8 10]\n",
      "  [11 11 13]]]\n"
     ]
    }
   ],
   "source": [
    "# Create a 3D array\n",
    "array_3d = np.array([[[1, 2, 3], [4, 5, 6]], [[7, 8, 9], [10, 11, 12]]])\n",
    "\n",
    "# Create a 2D array\n",
    "array_2d = np.array([[1, 0, 1]])\n",
    "\n",
    "# Add the 2D array to the 3D array\n",
    "result = array_3d + array_2d\n",
    "\n",
    "print(\"3D Array:\")\n",
    "print(array_3d)\n",
    "print(\"\\n2D Array:\")\n",
    "print(array_2d)\n",
    "print(\"\\nResult after broadcasting:\")\n",
    "print(result)\n"
   ]
  },
  {
   "cell_type": "code",
   "execution_count": 159,
   "id": "631fe913-f9c2-4838-923c-d2281eb0ee3c",
   "metadata": {},
   "outputs": [
    {
     "name": "stdout",
     "output_type": "stream",
     "text": [
      "(2, 2, 3)\n"
     ]
    }
   ],
   "source": [
    "print(array_3d.shape)"
   ]
  },
  {
   "cell_type": "code",
   "execution_count": 161,
   "id": "4b4ea5ad-f00b-4971-8545-09390c110162",
   "metadata": {},
   "outputs": [
    {
     "name": "stdout",
     "output_type": "stream",
     "text": [
      "(1, 3)\n"
     ]
    }
   ],
   "source": [
    "print(array_2d.shape)"
   ]
  }
 ],
 "metadata": {
  "kernelspec": {
   "display_name": "Python 3 (ipykernel)",
   "language": "python",
   "name": "python3"
  },
  "language_info": {
   "codemirror_mode": {
    "name": "ipython",
    "version": 3
   },
   "file_extension": ".py",
   "mimetype": "text/x-python",
   "name": "python",
   "nbconvert_exporter": "python",
   "pygments_lexer": "ipython3",
   "version": "3.12.4"
  }
 },
 "nbformat": 4,
 "nbformat_minor": 5
}

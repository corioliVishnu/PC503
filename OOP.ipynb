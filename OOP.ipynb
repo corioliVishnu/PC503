{
 "cells": [
  {
   "cell_type": "markdown",
   "id": "ea636e35-c274-434b-bc60-2a0020b1bcc2",
   "metadata": {},
   "source": [
    "## Defining a class\n",
    "## creating an object of that class"
   ]
  },
  {
   "cell_type": "code",
   "execution_count": null,
   "id": "ccb23f2e-8d53-470c-8c82-fb06497653af",
   "metadata": {},
   "outputs": [],
   "source": [
    "class Person:\n",
    "    def __init__(self, name, age):\n",
    "        self.name = name\n",
    "        self.age = age\n",
    "\n",
    "    def greet(self):\n",
    "        return f\"Hello, my name is {self.name} and I am {self.age} years old.\"\n",
    "\n",
    "john = Person(\"John\", 30)\n",
    "print(john.greet())  # Output: Hello, my name is John and I am 30 years old.\n"
   ]
  },
  {
   "cell_type": "markdown",
   "id": "6b50e236-ff6e-4e52-a899-e8488380ef37",
   "metadata": {},
   "source": [
    "## The init method: Initializes the object's attributes."
   ]
  },
  {
   "cell_type": "code",
   "execution_count": 5,
   "id": "7c95cce4-948a-4fbc-ba65-872043def998",
   "metadata": {},
   "outputs": [
    {
     "name": "stdout",
     "output_type": "stream",
     "text": [
      "Whiskers\n"
     ]
    }
   ],
   "source": [
    "class Car:\n",
    "    def __init__(self, name):\n",
    "        self.name = name\n",
    "\n",
    "my_car = Car(\"Toyota\")\n",
    "print(my_car.name)  # Output: Toyota\n"
   ]
  },
  {
   "cell_type": "markdown",
   "id": "54fd5165-69a0-47f7-8eff-fe3b41f598c2",
   "metadata": {},
   "source": [
    "## Instance vs. class attributes"
   ]
  },
  {
   "cell_type": "code",
   "execution_count": 62,
   "id": "936b03cd-150f-44ef-96d4-9df49f7f37b3",
   "metadata": {},
   "outputs": [
    {
     "name": "stdout",
     "output_type": "stream",
     "text": [
      "Canis lupus familiaris\n",
      "Buddy\n"
     ]
    }
   ],
   "source": [
    "class Dog:\n",
    "    species = \"Canis lupus familiaris\"  # Class attribute\n",
    "\n",
    "    def __init__(self, name):\n",
    "        self.name = name  # Instance attribute\n",
    "\n",
    "my_dog = Dog(\"Buddy\")\n",
    "print(my_dog.species)  # Output: Canis lupus familiaris\n",
    "print(my_dog.name) \n"
   ]
  },
  {
   "cell_type": "markdown",
   "id": "bcb151f9-e994-4f08-ba0d-baddb50e21bb",
   "metadata": {},
   "source": [
    "## Methods in classes"
   ]
  },
  {
   "cell_type": "code",
   "execution_count": 56,
   "id": "f61cf519-7362-41d7-9788-f7e350276e4a",
   "metadata": {},
   "outputs": [
    {
     "name": "stdout",
     "output_type": "stream",
     "text": [
      "Woof!\n"
     ]
    }
   ],
   "source": [
    "class Dog:\n",
    "    def bark(self):\n",
    "        return \"Woof!\"\n",
    "\n",
    "my_dog = Dog()\n",
    "print(my_dog.bark())  # Output: Woof!\n"
   ]
  },
  {
   "cell_type": "markdown",
   "id": "55a12679-78e8-4cf9-9f7b-b37c686a4d44",
   "metadata": {},
   "source": [
    "## self parameter: refers to the instance calling the method"
   ]
  },
  {
   "cell_type": "code",
   "execution_count": 11,
   "id": "01139425-cfa6-4f71-98a1-c06726600b8d",
   "metadata": {},
   "outputs": [
    {
     "name": "stdout",
     "output_type": "stream",
     "text": [
      "Buddy\n"
     ]
    }
   ],
   "source": [
    "class Dog:\n",
    "    def set_name(self, name):\n",
    "        self.name = name\n",
    "\n",
    "my_dog = Dog()\n",
    "my_dog.set_name(\"Buddy\")\n",
    "print(my_dog.name)  # Output: Buddy\n"
   ]
  },
  {
   "cell_type": "markdown",
   "id": "07c81f14-5d1a-4085-8e00-5cf5dd078e4a",
   "metadata": {},
   "source": [
    "## Encapsulation"
   ]
  },
  {
   "cell_type": "code",
   "execution_count": null,
   "id": "e2719b26-a6ef-42aa-9438-0cd11d69d9d1",
   "metadata": {},
   "outputs": [],
   "source": [
    "class BankAccount:\n",
    "    def __init__(self, balance=0):\n",
    "        self.__balance = balance  # Private attribute\n",
    "\n",
    "    def deposit(self, amount):\n",
    "        self.__balance += amount\n",
    "\n",
    "    def get_balance(self):\n",
    "        return self.__balance\n",
    "\n",
    "account = BankAccount()\n",
    "account.deposit(100)\n",
    "print(account.get_balance())  # Output: 100\n",
    "# print(account.__balance)  # AttributeError: 'BankAccount' object has no attribute '__balance'\n"
   ]
  },
  {
   "cell_type": "markdown",
   "id": "a327a83e-2210-461a-a8ae-abc987b856ee",
   "metadata": {},
   "source": [
    "## Inheritance: creating a new class from an existing class"
   ]
  },
  {
   "cell_type": "code",
   "execution_count": 18,
   "id": "80226772-cdb6-4d7a-a5b2-65f085e29070",
   "metadata": {},
   "outputs": [
    {
     "name": "stdout",
     "output_type": "stream",
     "text": [
      "Woof!\n"
     ]
    }
   ],
   "source": [
    "class Animal:\n",
    "    def speak(self):\n",
    "        return \"Animal speaks\"\n",
    "\n",
    "class Dog(Animal):\n",
    "    def speak(self):\n",
    "        return \"Woof!\"\n",
    "\n",
    "my_dog = Dog()\n",
    "print(my_dog.speak())  # Output: Woof!\n"
   ]
  },
  {
   "cell_type": "markdown",
   "id": "6930416d-304f-47da-8ba9-832b36b801ee",
   "metadata": {},
   "source": [
    "## Polymorphism: same methodname  in parent and child class"
   ]
  },
  {
   "cell_type": "code",
   "execution_count": 66,
   "id": "a80417ea-3f9b-436b-92fa-d60e094fba53",
   "metadata": {},
   "outputs": [
    {
     "name": "stdout",
     "output_type": "stream",
     "text": [
      "Animal speaks\n",
      "Woof!\n"
     ]
    }
   ],
   "source": [
    "class Animal:\n",
    "    def speak(self):\n",
    "        return \"Animal speaks\"\n",
    "\n",
    "class Dog(Animal):\n",
    "    def speak(self):\n",
    "        return \"Woof!\"\n",
    "\n",
    "my_animal =Animal()\n",
    "print(my_animal.speak())\n",
    "my_dog = Dog()\n",
    "print(my_dog.speak())  # Output: Woof!"
   ]
  },
  {
   "cell_type": "markdown",
   "id": "d4739ade-216c-4e5d-8d48-e8de33ee44b6",
   "metadata": {},
   "source": [
    "## The super() function: calls a method from the parent class"
   ]
  },
  {
   "cell_type": "code",
   "execution_count": 64,
   "id": "959856e7-34fc-4815-b3ea-dd643b858fe1",
   "metadata": {},
   "outputs": [
    {
     "name": "stdout",
     "output_type": "stream",
     "text": [
      "Animal speaks Woof!\n"
     ]
    }
   ],
   "source": [
    "class Animal:\n",
    "    def speak(self):\n",
    "        return \"Animal speaks\"\n",
    "\n",
    "class Dog(Animal):\n",
    "   \n",
    "    def speak(self):\n",
    "        return super().speak() + \" Woof!\"\n",
    "\n",
    "    \n",
    "my_dog = Dog()\n",
    "print(my_dog.speak())  # Output: Animal speaks Woof!\n"
   ]
  },
  {
   "cell_type": "markdown",
   "id": "87fd7ccd-7ee9-4c15-8306-a08bf43bad06",
   "metadata": {},
   "source": [
    "## Multiple inheritance: a class can inherit from multiple classes\n",
    "\n"
   ]
  },
  {
   "cell_type": "code",
   "execution_count": null,
   "id": "72c79264-0a3d-4d7e-a471-332db659eef1",
   "metadata": {},
   "outputs": [],
   "source": [
    "class Canine:\n",
    "    def bark(self):\n",
    "        return \"Bark!\"\n",
    "\n",
    "class Pet:\n",
    "    def play(self):\n",
    "        return \"Playing!\"\n",
    "    \n",
    "\n",
    "class Dog(Canine, Pet):\n",
    "    pass\n",
    "\n",
    "my_dog = Dog()\n",
    "print(my_dog.bark())  # Output: Bark!\n",
    "print(my_dog.play())  # Output: Playing!\n"
   ]
  },
  {
   "cell_type": "markdown",
   "id": "3d18d06b-ea3f-4e05-95e4-e456a93270af",
   "metadata": {},
   "source": [
    "## Another example"
   ]
  },
  {
   "cell_type": "code",
   "execution_count": null,
   "id": "82bd989e-ecc6-415c-a6f2-69615fb6c029",
   "metadata": {},
   "outputs": [],
   "source": [
    "class Product:\n",
    "    # Class attribute\n",
    "    discount_rate = 0.1  # 10% discount\n",
    "\n",
    "    def __init__(self, name, price, quantity):\n",
    "        # Instance attributes\n",
    "        self.name = name\n",
    "        self.price = price\n",
    "        self.quantity = quantity\n",
    "\n",
    "    def total_price(self):\n",
    "        \"\"\"Calculate the total price of the product without discount.\"\"\"\n",
    "        return self.price * self.quantity\n",
    "\n",
    "    def apply_discount(self):\n",
    "        \"\"\"Apply discount to the product price.\"\"\"\n",
    "        return self.price * (1 - self.discount_rate)\n",
    "\n",
    "    def stock_value(self):\n",
    "        \"\"\"Calculate the total stock value of the product.\"\"\"\n",
    "        return self.total_price()  # Use total_price method\n",
    "\n",
    "    def __str__(self):\n",
    "        \"\"\"String representation of the product.\"\"\"\n",
    "        return f\"Product Name: {self.name}, Price: ${self.price:.2f}, Quantity: {self.quantity}\"\n",
    "\n",
    "# Creating objects of the Product class\n",
    "product1 = Product(\"Laptop\", 1200.00, 5)\n",
    "product2 = Product(\"Smartphone\", 800.00, 10)\n",
    "\n",
    "# Accessing attributes and methods\n",
    "print(product1)  # Output: Product Name: Laptop, Price: $1200.00, Quantity: 5\n",
    "print(f\"Total Price for {product1.name}: ${product1.total_price():.2f}\")  # Output: 6000.00\n",
    "print(f\"Price after discount: ${product1.apply_discount():.2f}\")  # Output: 1080.00\n",
    "print(f\"Total stock value: ${product1.stock_value():.2f}\")  # Output: 6000.00\n",
    "\n",
    "print(product2)  # Output: Product Name: Smartphone, Price: $800.00, Quantity: 10\n",
    "print(f\"Total Price for {product2.name}: ${product2.total_price():.2f}\")  # Output: 8000.00\n",
    "print(f\"Price after discount: ${product2.apply_discount():.2f}\")  # Output: 720.00\n",
    "print(f\"Total stock value: ${product2.stock_value():.2f}\")  # Output: 8000.00\n"
   ]
  }
 ],
 "metadata": {
  "kernelspec": {
   "display_name": "Python 3 (ipykernel)",
   "language": "python",
   "name": "python3"
  },
  "language_info": {
   "codemirror_mode": {
    "name": "ipython",
    "version": 3
   },
   "file_extension": ".py",
   "mimetype": "text/x-python",
   "name": "python",
   "nbconvert_exporter": "python",
   "pygments_lexer": "ipython3",
   "version": "3.12.4"
  }
 },
 "nbformat": 4,
 "nbformat_minor": 5
}
